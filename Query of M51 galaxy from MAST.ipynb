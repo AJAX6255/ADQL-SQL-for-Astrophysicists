{
 "cells": [
  {
   "cell_type": "markdown",
   "id": "b07fe0e5-a2a1-4c5f-9c4d-437014797184",
   "metadata": {},
   "source": [
    "## ADQL = SQL for Astrophysicists\n",
    "ADQL is a subset of SQL, users who are familiar with SQL can easily learn ADQL and apply their knowledge to query astronomical databases, such as those provided by MAST. At the same time, ADQL provides astronomers and astrophysicists with a powerful tool for querying large and complex datasets of astronomical data."
   ]
  },
  {
   "cell_type": "code",
   "execution_count": 15,
   "id": "b21e79dc-5786-4c52-a2d7-f35adf4b89b8",
   "metadata": {
    "execution": {
     "iopub.execute_input": "2023-04-06T01:06:49.747326Z",
     "iopub.status.busy": "2023-04-06T01:06:49.746520Z",
     "iopub.status.idle": "2023-04-06T01:06:49.751024Z",
     "shell.execute_reply": "2023-04-06T01:06:49.750427Z",
     "shell.execute_reply.started": "2023-04-06T01:06:49.747293Z"
    },
    "tags": []
   },
   "outputs": [],
   "source": [
    "#first we configure the .ipynb (notebook with the required modules)\n",
    "import sys\n",
    "import os\n",
    "import time\n",
    "import re\n",
    "import json\n",
    "\n",
    "import requests\n",
    "from urllib.parse import quote as urlencode\n",
    "\n",
    "from astropy.table import Table\n",
    "import numpy as np\n",
    "\n",
    "import pprint\n",
    "pp = pprint.PrettyPrinter(indent=4)"
   ]
  },
  {
   "cell_type": "markdown",
   "id": "087302a8-b6a2-4c2f-8009-c80784ee442c",
   "metadata": {},
   "source": [
    "The next cell defines a function called mast_query which takes a dictionary object as an input, representing a request to the MAST (Mikulski Archive for Space Telescopes) API. The function returns two values: the HTTP headers of the response and the content (data) of the response.\n",
    "\n",
    "The function first sets the base URL for the API (mast.stsci.edu/api/v0/invoke) and determines the version of Python being used. It then creates a dictionary of HTTP headers that will be sent along with the request. This includes the content type, accept type, and user agent (which identifies the client making the request as the Python \"requests\" library).\n",
    "\n",
    "The function then encodes the request dictionary as a JSON string and URL encodes it. This is necessary because the MAST API expects the request to be sent as a URL-encoded string.\n",
    "\n",
    "The function then sends an HTTP POST request to the MAST API, including the URL-encoded request string and the HTTP headers. The response headers and content are then extracted from the response object and returned by the function.\n",
    "\n",
    "Overall, this function provides a convenient way to send requests to the MAST API and retrieve the associated data. It handles encoding the request in the proper format, sending it to the API, and extracting the response data."
   ]
  },
  {
   "cell_type": "code",
   "execution_count": 16,
   "id": "1e7957a0-464c-4ab6-8a2b-2135d3be526f",
   "metadata": {
    "execution": {
     "iopub.execute_input": "2023-04-06T01:06:49.759642Z",
     "iopub.status.busy": "2023-04-06T01:06:49.759035Z",
     "iopub.status.idle": "2023-04-06T01:06:49.767765Z",
     "shell.execute_reply": "2023-04-06T01:06:49.767097Z",
     "shell.execute_reply.started": "2023-04-06T01:06:49.759619Z"
    },
    "tags": []
   },
   "outputs": [],
   "source": [
    "def mast_query(request):\n",
    "    \"\"\"Perform a MAST query.\n",
    "    \n",
    "        Parameters\n",
    "        ----------\n",
    "        request (dictionary): The MAST request json object\n",
    "        \n",
    "        Returns head,content where head is the response HTTP headers, and content is the returned data\"\"\"\n",
    "    \n",
    "    # Base API url\n",
    "    request_url='https://mast.stsci.edu/api/v0/invoke'    \n",
    "    \n",
    "    # Grab Python Version \n",
    "    version = \".\".join(map(str, sys.version_info[:3]))\n",
    "\n",
    "    # Create Http Header Variables\n",
    "    headers = {\"Content-type\": \"application/x-www-form-urlencoded\",\n",
    "               \"Accept\": \"text/plain\",\n",
    "               \"User-agent\":\"python-requests/\"+version}\n",
    "\n",
    "    # Encoding the request as a json string\n",
    "    req_string = json.dumps(request)\n",
    "    req_string = urlencode(req_string)\n",
    "    \n",
    "    # Perform the HTTP request\n",
    "    resp = requests.post(request_url, data=\"request=\"+req_string, headers=headers)\n",
    "    \n",
    "    # Pull out the headers and response content\n",
    "    head = resp.headers\n",
    "    content = resp.content.decode('utf-8')\n",
    "\n",
    "    return head, content"
   ]
  },
  {
   "cell_type": "markdown",
   "id": "dcc0d73b-0c60-49b6-ae6f-dfe19d6ba897",
   "metadata": {},
   "source": [
    "M51 (or NGC 5194) is a grand design spiral galaxy located in the constellation Canes Venatici, about 23 million light-years away from Earth. It has a similar size and shape to M101, with a bright central bulge and prominent spiral arms that are rich in gas and dust. The Whirlpool Galaxy is also notable for its interaction with a smaller companion galaxy, NGC 5195, which is visible as a small, distorted object near the bottom of the image of the Whirlpool Galaxy. This interaction has triggered star formation in the region and created a number of bright star clusters in the Whirlpool's spiral arms."
   ]
  },
  {
   "cell_type": "code",
   "execution_count": 17,
   "id": "7b1c38da-0850-463a-ad03-8c440d96b9a1",
   "metadata": {
    "execution": {
     "iopub.execute_input": "2023-04-06T01:06:49.769442Z",
     "iopub.status.busy": "2023-04-06T01:06:49.768979Z",
     "iopub.status.idle": "2023-04-06T01:06:50.183488Z",
     "shell.execute_reply": "2023-04-06T01:06:50.182628Z",
     "shell.execute_reply.started": "2023-04-06T01:06:49.769417Z"
    },
    "tags": []
   },
   "outputs": [
    {
     "name": "stdout",
     "output_type": "stream",
     "text": [
      "{   'resolvedCoordinate': [   {   'cacheDate': 'Feb 21, 2023, 12:01:47 PM',\n",
      "                                  'cached': True,\n",
      "                                  'canonicalName': 'MESSIER 051',\n",
      "                                  'decl': 47.23056,\n",
      "                                  'objectType': 'GPair',\n",
      "                                  'ra': 202.48417,\n",
      "                                  'radius': 0.075,\n",
      "                                  'resolver': 'NED',\n",
      "                                  'resolverTime': 24,\n",
      "                                  'searchRadius': -1.0,\n",
      "                                  'searchString': 'm51'}],\n",
      "    'status': ''}\n"
     ]
    }
   ],
   "source": [
    "object_of_interest = 'M51'\n",
    "\n",
    "resolver_request = {'service':'Mast.Name.Lookup',\n",
    "                     'params':{'input':object_of_interest,\n",
    "                               'format':'json'},\n",
    "                     }\n",
    "\n",
    "headers, resolved_object_string = mast_query(resolver_request)\n",
    "\n",
    "resolved_object = json.loads(resolved_object_string)\n",
    "\n",
    "pp.pprint(resolved_object)"
   ]
  },
  {
   "cell_type": "code",
   "execution_count": 18,
   "id": "8171dfad-1f4f-47d2-ad76-4d0168b12961",
   "metadata": {
    "execution": {
     "iopub.execute_input": "2023-04-06T01:06:50.184789Z",
     "iopub.status.busy": "2023-04-06T01:06:50.184534Z",
     "iopub.status.idle": "2023-04-06T01:06:50.189161Z",
     "shell.execute_reply": "2023-04-06T01:06:50.188435Z",
     "shell.execute_reply.started": "2023-04-06T01:06:50.184768Z"
    },
    "tags": []
   },
   "outputs": [
    {
     "name": "stdout",
     "output_type": "stream",
     "text": [
      "object_of_interest M51 is  located at ra 202.48417 decl 47.23056\n"
     ]
    }
   ],
   "source": [
    "obj_ra = resolved_object['resolvedCoordinate'][0]['ra']\n",
    "obj_dec = resolved_object['resolvedCoordinate'][0]['decl']\n",
    "print('object_of_interest', object_of_interest, 'is  located at', 'ra', obj_ra, 'decl', obj_dec)"
   ]
  },
  {
   "cell_type": "code",
   "execution_count": 19,
   "id": "010ce57c-1aa3-41c0-87d9-2d15923f13ee",
   "metadata": {
    "execution": {
     "iopub.execute_input": "2023-04-06T01:06:50.190391Z",
     "iopub.status.busy": "2023-04-06T01:06:50.190162Z",
     "iopub.status.idle": "2023-04-06T01:06:58.930089Z",
     "shell.execute_reply": "2023-04-06T01:06:58.929235Z",
     "shell.execute_reply.started": "2023-04-06T01:06:50.190372Z"
    },
    "tags": []
   },
   "outputs": [
    {
     "name": "stdout",
     "output_type": "stream",
     "text": [
      "dict_keys(['status', 'msg', 'data', 'fields', 'paging'])\n",
      "Query status: COMPLETE\n"
     ]
    }
   ],
   "source": [
    "mast_request = {'service':'Mast.Caom.Cone',\n",
    "                'params':{'ra':obj_ra,\n",
    "                          'dec':obj_dec,\n",
    "                          'radius':0.2},\n",
    "                'format':'json',\n",
    "                'pagesize':2000,\n",
    "                'page':1,\n",
    "                'removenullcolumns':True,\n",
    "                'removecache':True}\n",
    "\n",
    "headers, mast_data_str = mast_query(mast_request)\n",
    "\n",
    "mast_data = json.loads(mast_data_str)\n",
    "\n",
    "print(mast_data.keys())\n",
    "print(\"Query status:\",mast_data['status'])"
   ]
  },
  {
   "cell_type": "code",
   "execution_count": 20,
   "id": "69f8165e-c918-4de4-8bb4-8405a674fa2c",
   "metadata": {
    "execution": {
     "iopub.execute_input": "2023-04-06T01:06:58.932325Z",
     "iopub.status.busy": "2023-04-06T01:06:58.932047Z",
     "iopub.status.idle": "2023-04-06T01:06:58.936656Z",
     "shell.execute_reply": "2023-04-06T01:06:58.935904Z",
     "shell.execute_reply.started": "2023-04-06T01:06:58.932304Z"
    }
   },
   "outputs": [
    {
     "name": "stdout",
     "output_type": "stream",
     "text": [
      "[   {'name': 'intentType', 'type': 'string'},\n",
      "    {'name': 'obs_collection', 'type': 'string'},\n",
      "    {'name': 'provenance_name', 'type': 'string'},\n",
      "    {'name': 'instrument_name', 'type': 'string'},\n",
      "    {'name': 'project', 'type': 'string'}]\n"
     ]
    }
   ],
   "source": [
    "pp.pprint(mast_data['fields'][:5])"
   ]
  },
  {
   "cell_type": "code",
   "execution_count": 21,
   "id": "0e4a005f-ca96-4d4c-b4a5-1ba8169cb17a",
   "metadata": {
    "execution": {
     "iopub.execute_input": "2023-04-06T01:06:58.937842Z",
     "iopub.status.busy": "2023-04-06T01:06:58.937613Z",
     "iopub.status.idle": "2023-04-06T01:06:58.953205Z",
     "shell.execute_reply": "2023-04-06T01:06:58.952281Z",
     "shell.execute_reply.started": "2023-04-06T01:06:58.937823Z"
    }
   },
   "outputs": [
    {
     "name": "stdout",
     "output_type": "stream",
     "text": [
      "{   '_selected_': None,\n",
      "    'calib_level': 3,\n",
      "    'dataRights': 'PUBLIC',\n",
      "    'dataURL': None,\n",
      "    'dataproduct_type': 'image',\n",
      "    'distance': 0,\n",
      "    'em_max': 1000,\n",
      "    'em_min': 600,\n",
      "    'filters': 'TESS',\n",
      "    'instrument_name': 'Photometer',\n",
      "    'intentType': 'science',\n",
      "    'jpegURL': None,\n",
      "    'mtFlag': False,\n",
      "    'obs_collection': 'TESS',\n",
      "    'obs_id': 'tess-s0016-4-3',\n",
      "    'obs_title': None,\n",
      "    'obsid': 27545566,\n",
      "    'project': 'TESS',\n",
      "    'proposal_id': 'N/A',\n",
      "    'proposal_pi': 'Ricker, George',\n",
      "    'proposal_type': None,\n",
      "    'provenance_name': 'SPOC',\n",
      "    's_dec': 50.01251405441704,\n",
      "    's_ra': 200.6066940322731,\n",
      "    's_region': 'POLYGON 188.96005900 47.31461100 195.80207500 58.03466100 '\n",
      "                '213.76319300 51.45788000 203.63432700 41.78187500 '\n",
      "                '188.96005900 47.31461100 ',\n",
      "    'sequence_number': 16,\n",
      "    'srcDen': None,\n",
      "    't_exptime': 1425.599358,\n",
      "    't_max': 58762.80885051,\n",
      "    't_min': 58738.14190212,\n",
      "    't_obs_release': 58782.3333334,\n",
      "    'target_classification': None,\n",
      "    'target_name': 'TESS FFI',\n",
      "    'wavelength_region': 'Optical'}\n"
     ]
    }
   ],
   "source": [
    "pp.pprint(mast_data['data'][0])"
   ]
  },
  {
   "cell_type": "code",
   "execution_count": 30,
   "id": "5d30bfba-b10b-4b11-8669-62a7f681f094",
   "metadata": {
    "execution": {
     "iopub.execute_input": "2023-04-06T01:22:46.882653Z",
     "iopub.status.busy": "2023-04-06T01:22:46.881866Z",
     "iopub.status.idle": "2023-04-06T01:22:46.929534Z",
     "shell.execute_reply": "2023-04-06T01:22:46.928893Z",
     "shell.execute_reply.started": "2023-04-06T01:22:46.882626Z"
    },
    "tags": []
   },
   "outputs": [
    {
     "name": "stdout",
     "output_type": "stream",
     "text": [
      "intentType obs_collection provenance_name ...      distance      _selected_\n",
      "---------- -------------- --------------- ... ------------------ ----------\n",
      "   science           TESS            SPOC ...                0.0      False\n",
      "   science           TESS            SPOC ...                0.0      False\n",
      "   science           TESS            SPOC ...                0.0      False\n",
      "   science           TESS            SPOC ...                0.0      False\n",
      "   science           TESS            SPOC ...  45.44407539669823      False\n",
      "   science          SWIFT            None ...                0.0      False\n",
      "   science          SWIFT            None ...                0.0      False\n",
      "   science          SWIFT            None ...                0.0      False\n",
      "   science          SWIFT            None ...                0.0      False\n",
      "   science          SWIFT            None ...                0.0      False\n",
      "       ...            ...             ... ...                ...        ...\n",
      "   science    SPITZER_SHA    SSC Pipeline ... 158.39793225034384      False\n",
      "   science    SPITZER_SHA    SSC Pipeline ... 158.49666916081117      False\n",
      "   science    SPITZER_SHA    SSC Pipeline ...  158.5077871632119      False\n",
      "   science    SPITZER_SHA    SSC Pipeline ...  158.5369320983771      False\n",
      "   science    SPITZER_SHA    SSC Pipeline ... 158.64592743307395      False\n",
      "   science    SPITZER_SHA    SSC Pipeline ...  158.6895281587943      False\n",
      "   science    SPITZER_SHA    SSC Pipeline ... 158.80428369479048      False\n",
      "   science    SPITZER_SHA    SSC Pipeline ... 158.95219150784035      False\n",
      "   science    SPITZER_SHA    SSC Pipeline ...  158.9590262026629      False\n",
      "   science    SPITZER_SHA    SSC Pipeline ... 159.03118978383284      False\n",
      "   science    SPITZER_SHA    SSC Pipeline ...  159.1198611615779      False\n",
      "Length = 2000 rows\n",
      "<Table length=2000>\n",
      "         name          dtype  n_bad\n",
      "--------------------- ------- -----\n",
      "           intentType    str7     0\n",
      "       obs_collection   str11     0\n",
      "      provenance_name   str12     0\n",
      "      instrument_name   str10     0\n",
      "              project    str4     0\n",
      "              filters   str16     0\n",
      "    wavelength_region   str10     0\n",
      "          target_name   str40     0\n",
      "target_classification    str4     0\n",
      "               obs_id   str47     0\n",
      "                 s_ra float64     0\n",
      "                s_dec float64     0\n",
      "     dataproduct_type   str10     0\n",
      "          proposal_pi   str17     0\n",
      "          calib_level   int64     0\n",
      "                t_min float64     0\n",
      "                t_max float64     0\n",
      "            t_exptime float64     0\n",
      "               em_min float64     0\n",
      "               em_max float64     0\n",
      "            obs_title  str106     0\n",
      "        t_obs_release float64   442\n",
      "          proposal_id   str16     0\n",
      "        proposal_type   str26     0\n",
      "      sequence_number   int64     0\n",
      "             s_region str1449     0\n",
      "              jpegURL   str98     0\n",
      "              dataURL  str137     0\n",
      "           dataRights    str6     0\n",
      "               mtFlag    bool     0\n",
      "               srcDen float64  1583\n",
      "                obsid    str8     0\n",
      "             distance float64     0\n",
      "           _selected_    bool     0\n",
      "The mast_data_table has 2000 rows and 34 columns.\n"
     ]
    }
   ],
   "source": [
    "mast_data_table = Table()\n",
    "\n",
    "for col,atype in [(x['name'],x['type']) for x in mast_data['fields']]:\n",
    "    if atype==\"string\":\n",
    "        atype=\"str\"\n",
    "    if atype==\"boolean\":\n",
    "        atype=\"bool\"\n",
    "    mast_data_table[col] = np.array([x.get(col,None) for x in mast_data['data']],dtype=atype)\n",
    "    \n",
    "print(mast_data_table)\n",
    "#print(mast_data_table.dtype)\n",
    "mast_data_table.info()\n",
    "num_rows = len(mast_data_table)\n",
    "num_cols = len(mast_data_table.colnames)\n",
    "print(\"The mast_data_table has\", num_rows, \"rows and\", num_cols, \"columns.\")"
   ]
  },
  {
   "cell_type": "markdown",
   "id": "3618e282-e72a-4d2c-bc3d-d142972287c8",
   "metadata": {},
   "source": [
    "The results are 2000 rows of data that comes from several astronomic collections.\n",
    "This demonstrates one of the basic mechanisms used by astronomers and astrophisicists to\n",
    "gather archived data from orbital (and earthbound) observatories.\n",
    "\n",
    "Astronomers and astrophysicists often rely on archived data from space-based and ground-based observatories to study and understand the universe. These archives consist of vast amounts of data collected over many years from a variety of telescopes and instruments. By querying these archives and retrieving the relevant data, researchers can analyze and interpret the observations to answer their scientific questions.\n",
    "\n",
    "This code queries one or more of these astronomical archives to retrieve a large dataset of astronomical observations. This demonstrates the power of using computer programs to automate the process of collecting and analyzing data, which can help researchers to more efficiently and effectively understand the universe."
   ]
  }
 ],
 "metadata": {
  "kernelspec": {
   "display_name": "LSST",
   "language": "python",
   "name": "lsst"
  },
  "language_info": {
   "codemirror_mode": {
    "name": "ipython",
    "version": 3
   },
   "file_extension": ".py",
   "mimetype": "text/x-python",
   "name": "python",
   "nbconvert_exporter": "python",
   "pygments_lexer": "ipython3",
   "version": "3.10.9"
  }
 },
 "nbformat": 4,
 "nbformat_minor": 5
}
